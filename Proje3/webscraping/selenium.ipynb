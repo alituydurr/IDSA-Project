{
 "cells": [
  {
   "cell_type": "code",
   "execution_count": 14,
   "metadata": {},
   "outputs": [],
   "source": [
    "import requests\n",
    "from bs4 import BeautifulSoup as bts\n",
    "import pandas as pd\n",
    "import re\n",
    "import numpy as np\n",
    "import time\n",
    "from selenium import webdriver\n",
    "from selenium.webdriver.chrome.service import Service\n",
    "from selenium.webdriver.chrome.options import Options\n",
    "from selenium.webdriver.common.by import By\n",
    "from selenium.webdriver.support.ui import WebDriverWait\n",
    "from selenium.webdriver.support import expected_conditions as EC\n",
    "from webdriver_manager.chrome import ChromeDriverManager\n",
    "\n"
   ]
  },
  {
   "cell_type": "code",
   "execution_count": 15,
   "metadata": {},
   "outputs": [
    {
     "name": "stdout",
     "output_type": "stream",
     "text": [
      "Sayfa başlığı: Bitcoin / Tether Fiyat Grafiği — BTC USDT — TradingView\n",
      "BTC/USDT Fiyatı: 90.311,29\n"
     ]
    }
   ],
   "source": [
    "\n",
    "# ChromeDriver'ın yolunu otomatik olarak alıyoruz\n",
    "driver_path = ChromeDriverManager().install()\n",
    "\n",
    "# Chrome için seçenekler\n",
    "options = Options()\n",
    "options.add_argument(\"--headless\")  # Arka planda çalıştırmak için (isteğe bağlı)\n",
    "\n",
    "# Service nesnesi ile ChromeDriver başlatıyoruz\n",
    "service = Service(driver_path)\n",
    "\n",
    "# WebDriver'ı başlatıyoruz\n",
    "driver = webdriver.Chrome(service=service, options=options)\n",
    "\n",
    "# Sayfayı açıyoruz\n",
    "driver.get(\"https://tr.tradingview.com/symbols/BTCUSDT/\")\n",
    "\n",
    "# Sayfanın başlığını yazdırıyoruz\n",
    "print(\"Sayfa başlığı:\", driver.title)\n",
    "\n",
    "# Sayfanın tamamen yüklenmesini bekliyoruz (fiyat öğesinin görünmesini)\n",
    "try:\n",
    "    # WebDriverWait ile fiyat öğesinin yüklenmesini bekliyoruz\n",
    "    price_element = WebDriverWait(driver, 20).until(\n",
    "        EC.presence_of_element_located((By.CSS_SELECTOR, \"span.last-JWoJqCpY.js-symbol-last\"))\n",
    "    )\n",
    "    \n",
    "    # Fiyatı alıyoruz\n",
    "    price = price_element.text\n",
    "    print(f\"BTC/USDT Fiyatı: {price}\")\n",
    "    \n",
    "except Exception as e:\n",
    "    print(f\"Fiyat bulunamadı veya hata oluştu: {e}\")\n",
    "\n",
    "# Tarayıcıyı kapatıyoruz\n",
    "driver.quit()\n"
   ]
  },
  {
   "cell_type": "code",
   "execution_count": 40,
   "metadata": {},
   "outputs": [],
   "source": [
    "#AÇILIŞ FİYATINI BULALIM\n",
    "def getAndParseURL(url):\n",
    "    result = requests.get(url, headers={\"User-Agent\":\"Safari/537.36\"}) # Safari/537.36. Chrome/103.0.0.0\n",
    "    soup = bts(result.text, \"html.parser\")\n",
    "    return soup\n",
    "\n",
    "#sayfaya istek atıyoruz\n",
    "requests.get(\"https://coinmarketcap.com/currencies/bitcoin/#Analytics\", headers={\"User-Agent\":\"Safari/537.36\"})\n",
    "\n",
    "#html kodunu kazımak için uygun formata çeviriyoruz\n",
    "html = getAndParseURL(\"https://coinmarketcap.com/currencies/bitcoin/#Analytics\")\n",
    "\n",
    "#açılış fiyatını kazıyoruz\n",
    "\n"
   ]
  },
  {
   "cell_type": "code",
   "execution_count": 64,
   "metadata": {},
   "outputs": [
    {
     "data": {
      "text/plain": [
       "'\\\\$\\\\d{1,3}(?:,\\\\d{3})*(?:\\\\.\\\\d+)?'"
      ]
     },
     "execution_count": 64,
     "metadata": {},
     "output_type": "execute_result"
    }
   ],
   "source": [
    "#açılış fiyatını kazıyoruz\n",
    "html.find('div',{'class':'sc-65e7f566-0 jDNvOA'}).get_text\n",
    "price_pattern=r'\\$\\d{1,3}(?:,\\d{3})*(?:\\.\\d+)?'\n",
    "price_pattern\n"
   ]
  },
  {
   "cell_type": "code",
   "execution_count": null,
   "metadata": {},
   "outputs": [
    {
     "name": "stdout",
     "output_type": "stream",
     "text": [
      "Bitcoin Fiyatı: $91,492.12\n"
     ]
    }
   ],
   "source": [
    "import requests\n",
    "from bs4 import BeautifulSoup\n",
    "import re\n",
    "\n",
    "# Web sayfasının URL'si\n",
    "url = 'https://www.coinmarketcap.com/currencies/bitcoin/'\n",
    "\n",
    "# Sayfayı al\n",
    "response = requests.get(url)\n",
    "\n",
    "# Sayfa başarılı şekilde geldiyse\n",
    "if response.status_code == 200:\n",
    "    # Sayfa içeriğini BeautifulSoup ile parse et\n",
    "    soup = BeautifulSoup(response.content, 'html.parser')\n",
    "\n",
    "    # Fiyatın yer aldığı div'i bul\n",
    "    price_tag = soup.find('div', {'class': 'sc-65e7f566-0 jDNvOA'})\n",
    "\n",
    "    if price_tag:\n",
    "        # Fiyat metnini al\n",
    "        price_text = price_tag.get_text()\n",
    "        \n",
    "        # Regex ile $ işareti ile başlayan sayıyı yakala\n",
    "        price_pattern = r'\\$\\d{1,3}(?:,\\d{3})*(?:\\.\\d+)?'  # Bu, fiyatın formatını yakalamak için kullanılır\n",
    "        match = re.search(price_pattern, price_text)\n",
    "        \n",
    "        if match:\n",
    "            print(f\"Bitcoin Fiyatı: {match.group(0)}\")\n",
    "        else:\n",
    "            print(\"Fiyat bilgisi bulunamadı.\")\n",
    "    else:\n",
    "        print(\"Fiyat bilgisi içeren div bulunamadı.\")\n",
    "else:\n",
    "    print(\"Sayfa yüklenemedi.\")\n"
   ]
  }
 ],
 "metadata": {
  "kernelspec": {
   "display_name": "Python 3",
   "language": "python",
   "name": "python3"
  },
  "language_info": {
   "codemirror_mode": {
    "name": "ipython",
    "version": 3
   },
   "file_extension": ".py",
   "mimetype": "text/x-python",
   "name": "python",
   "nbconvert_exporter": "python",
   "pygments_lexer": "ipython3",
   "version": "3.11.9"
  }
 },
 "nbformat": 4,
 "nbformat_minor": 2
}
